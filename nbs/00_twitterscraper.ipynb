{
 "cells": [
  {
   "cell_type": "markdown",
   "metadata": {},
   "source": [
    "# twitter\n",
    "\n",
    "> this are the selenium & bs4 reader of twitter pages"
   ]
  },
  {
   "cell_type": "code",
   "execution_count": null,
   "metadata": {},
   "outputs": [],
   "source": [
    "#| default_exp core"
   ]
  },
  {
   "cell_type": "code",
   "execution_count": null,
   "metadata": {},
   "outputs": [],
   "source": [
    "#| hide\n",
    "from nbdev.showdoc import *"
   ]
  },
  {
   "cell_type": "code",
   "execution_count": null,
   "metadata": {},
   "outputs": [],
   "source": [
    "#| export\n",
    "\n",
    "\n",
    "def scrape_twitter_page(driver, url, scroll_limit=10, sleep_time=2):\n",
    "    # Open the desired Twitter page\n",
    "    driver.get(url)\n",
    "\n",
    "    # Wait for the page to load\n",
    "    time.sleep(sleep_time)\n",
    "\n",
    "    # Scroll to the bottom of the page\n",
    "    scroll_count = 1\n",
    "    last_height = driver.execute_script(\"return document.body.scrollHeight\")\n",
    "    while scroll_count <= scroll_limit:\n",
    "        driver.execute_script(\"window.scrollTo(0, document.body.scrollHeight);\")\n",
    "        time.sleep(sleep_time)  # Adjust the sleep time as needed to ensure the page loads new content\n",
    "\n",
    "        # Retrieve the HTML content of the page\n",
    "        html_content = driver.page_source\n",
    "\n",
    "        # Save the HTML content to a file\n",
    "        with open(f\"twitter_content_{scroll_count}.html\", \"w\", encoding=\"utf-8\") as file:\n",
    "            file.write(html_content)\n",
    "\n",
    "        scroll_count += 1\n",
    "\n",
    "        new_height = driver.execute_script(\"return document.body.scrollHeight\")\n",
    "        if new_height == last_height:\n",
    "            break\n",
    "        last_height = new_height\n"
   ]
  },
  {
   "cell_type": "code",
   "execution_count": null,
   "metadata": {},
   "outputs": [],
   "source": [
    "#| export\n",
    "\n",
    "def extract_tweets_from_file(file_path):\n",
    "    with open(file_path, 'r', encoding='utf-8') as file:\n",
    "        html = file.read()\n",
    "\n",
    "    soup = BeautifulSoup(html, 'html.parser')\n",
    "    tweet_tags = soup.find_all('span', {'class': ['css-901oao', 'css-16my406', 'r-poiln3', 'r-bcqeeo', 'r-qvutc0']})\n",
    "    \n",
    "    tweets = []\n",
    "    for tag in tweet_tags:\n",
    "        tweets.append(tag.text)\n",
    "    \n",
    "    return tweets"
   ]
  },
  {
   "cell_type": "code",
   "execution_count": null,
   "metadata": {},
   "outputs": [],
   "source": [
    "#| hide\n",
    "import nbdev; nbdev.nbdev_export()"
   ]
  }
 ],
 "metadata": {
  "kernelspec": {
   "display_name": "python3",
   "language": "python",
   "name": "python3"
  }
 },
 "nbformat": 4,
 "nbformat_minor": 4
}
