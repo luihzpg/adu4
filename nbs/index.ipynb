{
 "cells": [
  {
   "cell_type": "code",
   "execution_count": null,
   "metadata": {},
   "outputs": [],
   "source": [
    "#| hide\n",
    "from adu.core import *"
   ]
  },
  {
   "cell_type": "markdown",
   "metadata": {},
   "source": [
    "# adu\n",
    "\n",
    "> twitter scrapper\n",
    "twitter data selenium collector"
   ]
  },
  {
   "cell_type": "markdown",
   "metadata": {},
   "source": [
    "This file will become your README and also the index of your documentation."
   ]
  },
  {
   "cell_type": "markdown",
   "metadata": {},
   "source": [
    "## Install"
   ]
  },
  {
   "cell_type": "markdown",
   "metadata": {},
   "source": [
    "```sh\n",
    "pip install adu3\n",
    "```"
   ]
  },
  {
   "cell_type": "markdown",
   "metadata": {},
   "source": [
    "## How to use"
   ]
  },
  {
   "cell_type": "markdown",
   "metadata": {},
   "source": [
    "First collect html pages, than run bs4 to process data"
   ]
  },
  {
   "cell_type": "code",
   "execution_count": null,
   "metadata": {},
   "outputs": [],
   "source": [
    "# Create a Selenium web driver instance (e.g., using Chrome)\n",
    "from selenium import webdriver\n",
    "import time\n",
    "from selenium import webdriver\n",
    "driver = webdriver.Chrome()\n",
    "\n",
    "# Set the desired Twitter page URL\n",
    "twitter_url = \"https://twitter.com/LulaOficial\"  # Replace with the actual URL of the Twitter page\n",
    "\n",
    "# Scrape the Twitter page\n",
    "scrape_twitter_page(driver, twitter_url, scroll_limit=3, sleep_time=15) #sleep time is important to give time to each log in per driver session\n",
    "\n",
    "# Close the web driver\n",
    "#driver.quit()"
   ]
  },
  {
   "cell_type": "code",
   "execution_count": null,
   "metadata": {},
   "outputs": [],
   "source": [
    "import glob\n",
    "from bs4 import BeautifulSoup\n",
    "\n",
    "file_paths = glob.glob('*.html')\n",
    "\n",
    "for file_path in file_paths:\n",
    "    print(file_path)\n",
    "    tweets = extract_tweets_from_file(file_path)    \n",
    "    for tweet in tweets:\n",
    "            print(file_path, tweet)"
   ]
  }
 ],
 "metadata": {
  "kernelspec": {
   "display_name": "python3",
   "language": "python",
   "name": "python3"
  }
 },
 "nbformat": 4,
 "nbformat_minor": 4
}
